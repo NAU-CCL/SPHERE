{
 "cells": [
  {
   "cell_type": "code",
   "execution_count": 1,
   "metadata": {},
   "outputs": [],
   "source": [
    "from jax import tree_util\n",
    "\n",
    "import jax\n",
    "import jax.numpy as jnp\n",
    "import matplotlib.pyplot as plt"
   ]
  },
  {
   "cell_type": "code",
   "execution_count": 2,
   "metadata": {},
   "outputs": [],
   "source": [
    "class CustomClass:\n",
    "  def __init__(self, x: jnp.ndarray, mul: bool):\n",
    "    self.x = x\n",
    "    self.mul = mul\n",
    "\n",
    "  @jax.jit\n",
    "  def calc(self, y):\n",
    "    if self.mul:\n",
    "      return self.x * y\n",
    "    return y\n",
    "\n",
    "  def _tree_flatten(self):\n",
    "    children = (self.x,)  # arrays / dynamic values\n",
    "    aux_data = {'mul': self.mul}  # static values\n",
    "    return (children, aux_data)\n",
    "\n",
    "  @classmethod\n",
    "  def _tree_unflatten(cls, aux_data, children):\n",
    "    return cls(*children, **aux_data)\n",
    "\n",
    "tree_util.register_pytree_node(CustomClass,\n",
    "                               CustomClass._tree_flatten,\n",
    "                               CustomClass._tree_unflatten)\n",
    "\n"
   ]
  },
  {
   "cell_type": "code",
   "execution_count": 3,
   "metadata": {},
   "outputs": [
    {
     "name": "stdout",
     "output_type": "stream",
     "text": [
      "6\n",
      "3\n",
      "6\n"
     ]
    }
   ],
   "source": [
    "c = CustomClass(2, True)\n",
    "print(c.calc(3))\n",
    "\n",
    "c.mul = False  # mutation is detected\n",
    "print(c.calc(3))\n",
    "\n",
    "c = CustomClass(jnp.array(2), True)  # non-hashable x is supported\n",
    "print(c.calc(3))"
   ]
  },
  {
   "cell_type": "code",
   "execution_count": 4,
   "metadata": {},
   "outputs": [
    {
     "name": "stdout",
     "output_type": "stream",
     "text": [
      "[1.4851485 0.5      ]\n"
     ]
    }
   ],
   "source": [
    "x_t = jnp.array([500,5,0])\n",
    "\n",
    "def events(x_t,t):\n",
    "    S,I,R = x_t\n",
    "    N = S + I + R\n",
    "\n",
    "    return jnp.array([(0.3 * S * I)/N , 0.1 * I])\n",
    "\n",
    "print(events(x_t,0))"
   ]
  }
 ],
 "metadata": {
  "kernelspec": {
   "display_name": ".venv",
   "language": "python",
   "name": "python3"
  },
  "language_info": {
   "codemirror_mode": {
    "name": "ipython",
    "version": 3
   },
   "file_extension": ".py",
   "mimetype": "text/x-python",
   "name": "python",
   "nbconvert_exporter": "python",
   "pygments_lexer": "ipython3",
   "version": "3.12.4"
  }
 },
 "nbformat": 4,
 "nbformat_minor": 2
}
