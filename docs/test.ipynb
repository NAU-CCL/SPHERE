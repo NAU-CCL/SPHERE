{
 "cells": [
  {
   "cell_type": "code",
   "execution_count": 26,
   "metadata": {},
   "outputs": [],
   "source": [
    "import jax.numpy as jnp\n",
    "import numpy as np\n",
    "import matplotlib.pyplot as plt"
   ]
  },
  {
   "cell_type": "code",
   "execution_count": 27,
   "metadata": {},
   "outputs": [],
   "source": [
    "jnp.array([1])\n",
    "\n",
    "dts = [1,0.1,0.01,0.001]\n",
    "vals = np.zeros((4,10))\n",
    "vals[:,0] = 1\n",
    "func = lambda x_t, t: x_t\n",
    "for t in range(1,10):\n",
    "    for index,dt in enumerate(dts): \n",
    "        vals[index,t] = vals[index,t-1] + dt * func(vals[index,t-1],t)\n",
    "\n"
   ]
  },
  {
   "cell_type": "code",
   "execution_count": 28,
   "metadata": {},
   "outputs": [
    {
     "name": "stdout",
     "output_type": "stream",
     "text": [
      "[[  1.           2.           4.           8.          16.\n",
      "   32.          64.         128.         256.         512.        ]\n",
      " [  1.           1.1          1.21         1.331        1.4641\n",
      "    1.61051      1.771561     1.9487171    2.14358881   2.35794769]\n",
      " [  1.           1.01         1.0201       1.030301     1.04060401\n",
      "    1.05101005   1.06152015   1.07213535   1.08285671   1.09368527]\n",
      " [  1.           1.001        1.002001     1.003003     1.004006\n",
      "    1.00501001   1.00601502   1.00702104   1.00802806   1.00903608]]\n"
     ]
    }
   ],
   "source": [
    "print(vals)"
   ]
  }
 ],
 "metadata": {
  "kernelspec": {
   "display_name": ".venv",
   "language": "python",
   "name": "python3"
  },
  "language_info": {
   "codemirror_mode": {
    "name": "ipython",
    "version": 3
   },
   "file_extension": ".py",
   "mimetype": "text/x-python",
   "name": "python",
   "nbconvert_exporter": "python",
   "pygments_lexer": "ipython3",
   "version": "3.11.5"
  }
 },
 "nbformat": 4,
 "nbformat_minor": 2
}
