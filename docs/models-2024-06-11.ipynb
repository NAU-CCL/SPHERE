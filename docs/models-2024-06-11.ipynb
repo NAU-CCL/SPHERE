{
 "cells": [
  {
   "cell_type": "markdown",
   "id": "39e9b2c27713b4c5",
   "metadata": {},
   "source": [
    "# Model Implementation\n",
    "### 2024-06-11 \n",
    "### Andrew Attilio\n",
    "We implemented an abstract model class and 3 concrete model \n",
    "implementations:\n",
    "- Lorenz\n",
    "- SIR\n",
    "- SIRH \n",
    "\n",
    "## Lorenz Model Example"
   ]
  },
  {
   "cell_type": "code",
   "execution_count": 1,
   "id": "initial_id",
   "metadata": {
    "ExecuteTime": {
     "end_time": "2024-06-11T18:16:26.488927Z",
     "start_time": "2024-06-11T18:16:24.704639Z"
    },
    "collapsed": true
   },
   "outputs": [
    {
     "ename": "TypeError",
     "evalue": "LorenzParameters.__init__() got an unexpected keyword argument 'initial_state'",
     "output_type": "error",
     "traceback": [
      "\u001b[0;31m---------------------------------------------------------------------------\u001b[0m",
      "\u001b[0;31mTypeError\u001b[0m                                 Traceback (most recent call last)",
      "Cell \u001b[0;32mIn[1], line 12\u001b[0m\n\u001b[1;32m      9\u001b[0m \u001b[38;5;28;01mimport\u001b[39;00m \u001b[38;5;21;01mmatplotlib\u001b[39;00m\u001b[38;5;21;01m.\u001b[39;00m\u001b[38;5;21;01mpyplot\u001b[39;00m \u001b[38;5;28;01mas\u001b[39;00m \u001b[38;5;21;01mplt\u001b[39;00m\n\u001b[1;32m     11\u001b[0m \u001b[38;5;66;03m# Initialize Model Parameters\u001b[39;00m\n\u001b[0;32m---> 12\u001b[0m lorenz_params \u001b[38;5;241m=\u001b[39m \u001b[43mLorenzParameters\u001b[49m\u001b[43m(\u001b[49m\n\u001b[1;32m     13\u001b[0m \u001b[43m            \u001b[49m\u001b[43minitial_state\u001b[49m\u001b[38;5;241;43m=\u001b[39;49m\u001b[43m(\u001b[49m\u001b[38;5;241;43m1.0\u001b[39;49m\u001b[43m,\u001b[49m\u001b[43m \u001b[49m\u001b[38;5;241;43m1.0\u001b[39;49m\u001b[43m,\u001b[49m\u001b[43m \u001b[49m\u001b[38;5;241;43m1.0\u001b[39;49m\u001b[43m)\u001b[49m\u001b[43m,\u001b[49m\n\u001b[1;32m     14\u001b[0m \u001b[43m            \u001b[49m\u001b[43msigma\u001b[49m\u001b[38;5;241;43m=\u001b[39;49m\u001b[38;5;241;43m10.0\u001b[39;49m\u001b[43m,\u001b[49m\n\u001b[1;32m     15\u001b[0m \u001b[43m            \u001b[49m\u001b[43mrho\u001b[49m\u001b[38;5;241;43m=\u001b[39;49m\u001b[38;5;241;43m28.0\u001b[39;49m\u001b[43m,\u001b[49m\n\u001b[1;32m     16\u001b[0m \u001b[43m            \u001b[49m\u001b[43mbeta\u001b[49m\u001b[38;5;241;43m=\u001b[39;49m\u001b[38;5;241;43m8.0\u001b[39;49m\u001b[38;5;241;43m/\u001b[39;49m\u001b[38;5;241;43m3.0\u001b[39;49m\n\u001b[1;32m     17\u001b[0m \u001b[43m        \u001b[49m\u001b[43m)\u001b[49m\n\u001b[1;32m     19\u001b[0m solver \u001b[38;5;241m=\u001b[39m JAXSolver() \u001b[38;5;66;03m# Choose a solver\u001b[39;00m\n\u001b[1;32m     20\u001b[0m model \u001b[38;5;241m=\u001b[39m LorenzModel(lorenz_params, solver) \u001b[38;5;66;03m# Initialize the model\u001b[39;00m\n",
      "\u001b[0;31mTypeError\u001b[0m: LorenzParameters.__init__() got an unexpected keyword argument 'initial_state'"
     ]
    }
   ],
   "source": [
    "import sys\n",
    "sys.path.append('../')\n",
    "\n",
    "from time import perf_counter\n",
    "from sphere.plotting import plot_lorenz_output\n",
    "from sphere.model.implementations.Lorenz import LorenzModel\n",
    "from sphere.model.abstract.parameters import LorenzParameters\n",
    "from sphere.model.abstract.solvers import JAXSolver\n",
    "import matplotlib.pyplot as plt\n",
    "\n",
    "# Initialize Model Parameters\n",
    "lorenz_params = LorenzParameters(\n",
    "            initial_state=(1.0, 1.0, 1.0),\n",
    "            sigma=10.0,\n",
    "            rho=28.0,\n",
    "            beta=8.0/3.0\n",
    "        )\n",
    "\n",
    "solver = JAXSolver() # Choose a solver\n",
    "model = LorenzModel(lorenz_params, solver) # Initialize the model\n",
    "\n",
    "t = perf_counter()\n",
    "states = model.run(time_steps=50) # Run the model \n",
    "print(f\"timing: {perf_counter() - t}\")\n",
    "\n",
    "plot_lorenz_output(states)"
   ]
  },
  {
   "cell_type": "markdown",
   "id": "577461f5b021ff7c",
   "metadata": {},
   "source": [
    "If we decide on a 'best' solver method in the future, we could hard-wire it in.\n",
    "\n",
    "The state_transition methods currently accept a time, t, as a parameter. This will be useful if we want to implement time-dependent parameters. "
   ]
  },
  {
   "cell_type": "code",
   "execution_count": null,
   "id": "f81a4f208eb0e73d",
   "metadata": {
    "ExecuteTime": {
     "end_time": "2024-06-11T18:16:26.492867Z",
     "start_time": "2024-06-11T18:16:26.490497Z"
    }
   },
   "outputs": [],
   "source": []
  }
 ],
 "metadata": {
  "kernelspec": {
   "display_name": "Python 3",
   "language": "python",
   "name": "python3"
  },
  "language_info": {
   "codemirror_mode": {
    "name": "ipython",
    "version": 3
   },
   "file_extension": ".py",
   "mimetype": "text/x-python",
   "name": "python",
   "nbconvert_exporter": "python",
   "pygments_lexer": "ipython3",
   "version": "3.11.5"
  }
 },
 "nbformat": 4,
 "nbformat_minor": 5
}
