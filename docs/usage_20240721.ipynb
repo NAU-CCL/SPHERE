{
 "cells": [
  {
   "metadata": {},
   "cell_type": "markdown",
   "source": [
    "We have a hierarchical system, where each object only sees the one below it in the hierarchy:\n",
    "\n",
    "Model > Solver > Transition > Parameters > Individual Params\n",
    "\n",
    "- The individual parameters (beta, gamma, etc.) are collected in a Parameters class. \n",
    "\n",
    "- The Transition takes in the Parameters. The Parameters parameterize the Transition equations. \n",
    "\n",
    "- The Solver takes in the Transition. The Solver needs the Transition functions to update the state. \n",
    "\n",
    "- The Model takes in the Solver. The Model needs the Solver to run and generate data. \n",
    "\n",
    "If the Model or solver needs some other sort of Hyper Parameters, they can be packaged in a different class/dictionary, rather than be lumped in with the current Parameters class."
   ],
   "id": "1dd87a19839fdeb1"
  },
  {
   "metadata": {},
   "cell_type": "markdown",
   "source": [
    "\n",
    "### ModelFactory\n",
    "The ModelFactory builds and returns a model, while also performing compatibility checks (SIRParameters go with SIR Transitions. Lorenz63 Params can't be used with SIR Transitions. etc.). This way, the Model class doesn't need to touch the Parameters just for validation --- that has already been done by the ModelFactory. \n",
    "\n",
    "The ModelFactory currently infers the type of process (Stochastic vs. Determinstic) by the type of Solver passed in. I'm not sure if this is ideal --- it can easily be changed if needed.\n",
    "\n",
    "I haven't thought deeply about other processes (jump, tau-leap, etc.) but I believe they will fit in with this system. "
   ],
   "id": "aa12192563b5ab2e"
  },
  {
   "cell_type": "code",
   "id": "initial_id",
   "metadata": {
    "collapsed": true,
    "ExecuteTime": {
     "end_time": "2024-07-21T16:19:54.133240Z",
     "start_time": "2024-07-21T16:19:53.251277Z"
    }
   },
   "source": [
    "from sphere.model.model_factory import ModelFactory\n",
    "from sphere.model.parameters import SIRParameters\n",
    "from sphere.model.solver import EulerSolver, EulerMaruyamaSolver\n",
    "\n",
    "SIR_params = SIRParameters(beta=0.3, gamma=0.8, population=100000)\n",
    "SIR_det = ModelFactory.create_model(\n",
    "    model_type=\"SIR\", params=SIR_params, solver_cls=EulerSolver\n",
    ")"
   ],
   "outputs": [],
   "execution_count": 1
  },
  {
   "metadata": {
    "ExecuteTime": {
     "end_time": "2024-07-21T16:19:55.560717Z",
     "start_time": "2024-07-21T16:19:54.857635Z"
    }
   },
   "cell_type": "code",
   "source": "SIR_det.run(x0=(100000, 5, 0), t0=0, t_final=100, dt=1.0)",
   "id": "c4b82063a2e1a251",
   "outputs": [
    {
     "ename": "TypeError",
     "evalue": "SIRParameters.update_all() missing 1 required positional argument: 't'",
     "output_type": "error",
     "traceback": [
      "\u001B[0;31m---------------------------------------------------------------------------\u001B[0m",
      "\u001B[0;31mTypeError\u001B[0m                                 Traceback (most recent call last)",
      "Cell \u001B[0;32mIn[2], line 1\u001B[0m\n\u001B[0;32m----> 1\u001B[0m \u001B[43mSIR_det\u001B[49m\u001B[38;5;241;43m.\u001B[39;49m\u001B[43mrun\u001B[49m\u001B[43m(\u001B[49m\u001B[43mx0\u001B[49m\u001B[38;5;241;43m=\u001B[39;49m\u001B[43m(\u001B[49m\u001B[38;5;241;43m100000\u001B[39;49m\u001B[43m,\u001B[49m\u001B[43m \u001B[49m\u001B[38;5;241;43m5\u001B[39;49m\u001B[43m,\u001B[49m\u001B[43m \u001B[49m\u001B[38;5;241;43m0\u001B[39;49m\u001B[43m)\u001B[49m\u001B[43m,\u001B[49m\u001B[43m \u001B[49m\u001B[43mt0\u001B[49m\u001B[38;5;241;43m=\u001B[39;49m\u001B[38;5;241;43m0\u001B[39;49m\u001B[43m,\u001B[49m\u001B[43m \u001B[49m\u001B[43mt_final\u001B[49m\u001B[38;5;241;43m=\u001B[39;49m\u001B[38;5;241;43m100\u001B[39;49m\u001B[43m,\u001B[49m\u001B[43m \u001B[49m\u001B[43mdt\u001B[49m\u001B[38;5;241;43m=\u001B[39;49m\u001B[38;5;241;43m1.0\u001B[39;49m\u001B[43m)\u001B[49m\n",
      "File \u001B[0;32m~/PycharmProjects/SPHERE/sphere/model/model.py:63\u001B[0m, in \u001B[0;36mModel.run\u001B[0;34m(self, x0, t0, t_final, dt)\u001B[0m\n\u001B[1;32m     61\u001B[0m \u001B[38;5;28;01mfor\u001B[39;00m target_time \u001B[38;5;129;01min\u001B[39;00m output_times[\u001B[38;5;241m1\u001B[39m:]:\n\u001B[1;32m     62\u001B[0m     \u001B[38;5;28;01mwhile\u001B[39;00m current_time \u001B[38;5;241m<\u001B[39m target_time:\n\u001B[0;32m---> 63\u001B[0m         state \u001B[38;5;241m=\u001B[39m \u001B[38;5;28;43mself\u001B[39;49m\u001B[38;5;241;43m.\u001B[39;49m\u001B[43msolver\u001B[49m\u001B[38;5;241;43m.\u001B[39;49m\u001B[43mstep\u001B[49m\u001B[43m(\u001B[49m\u001B[43mstate\u001B[49m\u001B[38;5;241;43m=\u001B[39;49m\u001B[43mstate\u001B[49m\u001B[43m,\u001B[49m\u001B[43m \u001B[49m\u001B[43mdt\u001B[49m\u001B[38;5;241;43m=\u001B[39;49m\u001B[43mdt\u001B[49m\u001B[43m,\u001B[49m\u001B[43m \u001B[49m\u001B[43mt\u001B[49m\u001B[38;5;241;43m=\u001B[39;49m\u001B[43mcurrent_time\u001B[49m\u001B[43m)\u001B[49m\n\u001B[1;32m     64\u001B[0m         current_time \u001B[38;5;241m+\u001B[39m\u001B[38;5;241m=\u001B[39m \u001B[38;5;28mself\u001B[39m\u001B[38;5;241m.\u001B[39msolver\u001B[38;5;241m.\u001B[39mdelta_t\n\u001B[1;32m     65\u001B[0m     trajectory[output_index] \u001B[38;5;241m=\u001B[39m state\n",
      "File \u001B[0;32m~/PycharmProjects/SPHERE/sphere/model/solver.py:67\u001B[0m, in \u001B[0;36mEulerSolver.step\u001B[0;34m(self, state, dt, t)\u001B[0m\n\u001B[1;32m     55\u001B[0m \u001B[38;5;28;01mdef\u001B[39;00m \u001B[38;5;21mstep\u001B[39m(\u001B[38;5;28mself\u001B[39m, state: ArrayLike, dt: \u001B[38;5;28mfloat\u001B[39m, t: \u001B[38;5;28mint\u001B[39m) \u001B[38;5;241m-\u001B[39m\u001B[38;5;241m>\u001B[39m Array:\n\u001B[1;32m     56\u001B[0m \u001B[38;5;250m    \u001B[39m\u001B[38;5;124;03m\"\"\"\u001B[39;00m\n\u001B[1;32m     57\u001B[0m \u001B[38;5;124;03m    Advances the state of the model by one time step using the Euler method.\u001B[39;00m\n\u001B[1;32m     58\u001B[0m \n\u001B[0;32m   (...)\u001B[0m\n\u001B[1;32m     65\u001B[0m \u001B[38;5;124;03m        jax.Array: The updated state of the system.\u001B[39;00m\n\u001B[1;32m     66\u001B[0m \u001B[38;5;124;03m    \"\"\"\u001B[39;00m\n\u001B[0;32m---> 67\u001B[0m     drift \u001B[38;5;241m=\u001B[39m \u001B[38;5;28;43mself\u001B[39;49m\u001B[38;5;241;43m.\u001B[39;49m\u001B[43mtransition\u001B[49m\u001B[38;5;241;43m.\u001B[39;49m\u001B[43mdrift\u001B[49m\u001B[43m(\u001B[49m\u001B[43mstate\u001B[49m\u001B[43m,\u001B[49m\u001B[43m \u001B[49m\u001B[43mt\u001B[49m\u001B[43m)\u001B[49m \u001B[38;5;241m*\u001B[39m dt\n\u001B[1;32m     68\u001B[0m     \u001B[38;5;28;01mreturn\u001B[39;00m state \u001B[38;5;241m+\u001B[39m drift\n",
      "File \u001B[0;32m~/PycharmProjects/SPHERE/sphere/model/transition.py:60\u001B[0m, in \u001B[0;36mDeterministicSIR.drift\u001B[0;34m(self, state, t)\u001B[0m\n\u001B[1;32m     59\u001B[0m \u001B[38;5;28;01mdef\u001B[39;00m \u001B[38;5;21mdrift\u001B[39m(\u001B[38;5;28mself\u001B[39m, state: ArrayLike, t: \u001B[38;5;28mint\u001B[39m) \u001B[38;5;241m-\u001B[39m\u001B[38;5;241m>\u001B[39m jnp\u001B[38;5;241m.\u001B[39mndarray:\n\u001B[0;32m---> 60\u001B[0m     \u001B[38;5;28;43mself\u001B[39;49m\u001B[38;5;241;43m.\u001B[39;49m\u001B[43mparams\u001B[49m\u001B[38;5;241;43m.\u001B[39;49m\u001B[43mupdate_all\u001B[49m\u001B[43m(\u001B[49m\u001B[43m)\u001B[49m\n\u001B[1;32m     61\u001B[0m     beta \u001B[38;5;241m=\u001B[39m \u001B[38;5;28mself\u001B[39m\u001B[38;5;241m.\u001B[39mparams\u001B[38;5;241m.\u001B[39mbeta\n\u001B[1;32m     62\u001B[0m     gamma \u001B[38;5;241m=\u001B[39m \u001B[38;5;28mself\u001B[39m\u001B[38;5;241m.\u001B[39mparams\u001B[38;5;241m.\u001B[39mgamma\n",
      "\u001B[0;31mTypeError\u001B[0m: SIRParameters.update_all() missing 1 required positional argument: 't'"
     ]
    }
   ],
   "execution_count": 2
  },
  {
   "metadata": {},
   "cell_type": "code",
   "outputs": [],
   "execution_count": null,
   "source": "",
   "id": "13c76e947ba6bd00"
  }
 ],
 "metadata": {
  "kernelspec": {
   "display_name": "Python 3",
   "language": "python",
   "name": "python3"
  },
  "language_info": {
   "codemirror_mode": {
    "name": "ipython",
    "version": 2
   },
   "file_extension": ".py",
   "mimetype": "text/x-python",
   "name": "python",
   "nbconvert_exporter": "python",
   "pygments_lexer": "ipython2",
   "version": "2.7.6"
  }
 },
 "nbformat": 4,
 "nbformat_minor": 5
}
