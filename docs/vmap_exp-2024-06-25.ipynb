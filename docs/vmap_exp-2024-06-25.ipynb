{
 "cells": [
  {
   "cell_type": "code",
   "execution_count": 1,
   "metadata": {},
   "outputs": [],
   "source": [
    "from typing import Tuple\n",
    "\n",
    "from jax.typing import ArrayLike\n",
    "from jax import random\n",
    "\n",
    "import jax.numpy as jnp\n",
    "import numpy as np\n",
    "import jax \n",
    "\n",
    "\n"
   ]
  },
  {
   "cell_type": "code",
   "execution_count": 2,
   "metadata": {},
   "outputs": [
    {
     "name": "stdout",
     "output_type": "stream",
     "text": [
      "61.7 μs ± 1.6 μs per loop (mean ± std. dev. of 7 runs, 10,000 loops each)\n"
     ]
    }
   ],
   "source": [
    "rng = np.random.default_rng(seed = 5)\n",
    "\n",
    "rates = jnp.arange(1000)\n",
    "\n",
    "def calc_events(rng,rates): \n",
    "    return rng.poisson(rates)\n",
    "\n",
    "%timeit calc_events(rng,rates)"
   ]
  },
  {
   "cell_type": "code",
   "execution_count": 3,
   "metadata": {},
   "outputs": [
    {
     "name": "stdout",
     "output_type": "stream",
     "text": [
      "555 μs ± 76.6 μs per loop (mean ± std. dev. of 7 runs, 1 loop each)\n"
     ]
    }
   ],
   "source": [
    "key = random.PRNGKey(seed = 5)\n",
    "\n",
    "@jax.jit\n",
    "def calc_events(key,rates): \n",
    "    return random.poisson(key,rates)\n",
    "\n",
    "%timeit calc_events(key,rates).block_until_ready()\n",
    "\n"
   ]
  },
  {
   "cell_type": "code",
   "execution_count": 6,
   "metadata": {},
   "outputs": [
    {
     "name": "stdout",
     "output_type": "stream",
     "text": [
      "3.34 ms ± 276 μs per loop (mean ± std. dev. of 7 runs, 1 loop each)\n"
     ]
    }
   ],
   "source": [
    "def calc_events(key,rate): \n",
    "    return random.poisson(key,rate)\n",
    "\n",
    "v_calc = jax.vmap(calc_events)\n",
    "\n",
    "%timeit v_calc(random.split(key,rates.size),rates)\n"
   ]
  },
  {
   "cell_type": "code",
   "execution_count": 7,
   "metadata": {},
   "outputs": [
    {
     "name": "stdout",
     "output_type": "stream",
     "text": [
      "3.03 ms ± 89.4 μs per loop (mean ± std. dev. of 7 runs, 100 loops each)\n"
     ]
    }
   ],
   "source": [
    "def func(x):\n",
    "    return x**2\n",
    "\n",
    "def calc_events(key,rate): \n",
    "    return func(random.poisson(key,rate))\n",
    "\n",
    "v_calc = jax.vmap(calc_events)\n",
    "\n",
    "%timeit v_calc(random.split(key,rates.size),rates)"
   ]
  }
 ],
 "metadata": {
  "kernelspec": {
   "display_name": "Python 3",
   "language": "python",
   "name": "python3"
  },
  "language_info": {
   "codemirror_mode": {
    "name": "ipython",
    "version": 3
   },
   "file_extension": ".py",
   "mimetype": "text/x-python",
   "name": "python",
   "nbconvert_exporter": "python",
   "pygments_lexer": "ipython3",
   "version": "3.12.4"
  }
 },
 "nbformat": 4,
 "nbformat_minor": 2
}
